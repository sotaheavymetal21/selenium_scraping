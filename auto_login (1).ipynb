{
 "cells": [
  {
   "cell_type": "code",
   "execution_count": null,
   "id": "2abd79dd",
   "metadata": {},
   "outputs": [],
   "source": []
  },
  {
   "cell_type": "code",
   "execution_count": null,
   "id": "c451d9b1",
   "metadata": {},
   "outputs": [],
   "source": [
    "from selenium import webdriver\n",
    "browser = webdriver.Chrome()\n",
    "browser.get(\"https://scraping-for-beginner.herokuapp.com/login_page\")"
   ]
  },
  {
   "cell_type": "code",
   "execution_count": 19,
   "id": "8dda3917",
   "metadata": {},
   "outputs": [],
   "source": [
    "browser = webdriver.Chrome()"
   ]
  },
  {
   "cell_type": "code",
   "execution_count": 20,
   "id": "43c0ddb2",
   "metadata": {},
   "outputs": [],
   "source": [
    "browser.get(\"https://scraping-for-beginner.herokuapp.com/login_page\")"
   ]
  },
  {
   "cell_type": "code",
   "execution_count": 21,
   "id": "5604b901",
   "metadata": {},
   "outputs": [],
   "source": [
    "browser.quit()"
   ]
  },
  {
   "cell_type": "code",
   "execution_count": 22,
   "id": "cff90898",
   "metadata": {},
   "outputs": [],
   "source": [
    "browser = webdriver.Chrome()\n",
    "browser.get(\"https://scraping-for-beginner.herokuapp.com/login_page\")"
   ]
  },
  {
   "cell_type": "code",
   "execution_count": 28,
   "id": "8d9f1978",
   "metadata": {},
   "outputs": [],
   "source": [
    "from selenium.webdriver.common.by import By"
   ]
  },
  {
   "cell_type": "code",
   "execution_count": 87,
   "id": "00681fa8",
   "metadata": {},
   "outputs": [],
   "source": [
    "elem_username = browser.find_element(By.ID, \"username\")"
   ]
  },
  {
   "cell_type": "code",
   "execution_count": 88,
   "id": "43b8138c",
   "metadata": {},
   "outputs": [
    {
     "data": {
      "text/plain": [
       "<selenium.webdriver.remote.webelement.WebElement (session=\"c994dd61abaffb55423dd37eebd83c51\", element=\"61aa564c-923a-4c5d-b5a5-73555126c15f\")>"
      ]
     },
     "execution_count": 88,
     "metadata": {},
     "output_type": "execute_result"
    }
   ],
   "source": [
    "elem_username"
   ]
  },
  {
   "cell_type": "markdown",
   "id": "9a2add37",
   "metadata": {},
   "source": [
    "elem_username.send_keys(\"imanishi\")"
   ]
  },
  {
   "cell_type": "code",
   "execution_count": 89,
   "id": "ad0b4198",
   "metadata": {},
   "outputs": [],
   "source": [
    "elem_username.send_keys(\"imanishi\")"
   ]
  },
  {
   "cell_type": "code",
   "execution_count": 90,
   "id": "6a2224d5",
   "metadata": {},
   "outputs": [],
   "source": [
    "elem_password  = browser.find_element(By.ID, \"password\")"
   ]
  },
  {
   "cell_type": "code",
   "execution_count": 91,
   "id": "d9b32d9b",
   "metadata": {},
   "outputs": [],
   "source": [
    "elem_password.send_keys(\"kohei\")"
   ]
  },
  {
   "cell_type": "code",
   "execution_count": 92,
   "id": "b006d4ce",
   "metadata": {},
   "outputs": [],
   "source": [
    "elem_login_btn  =browser.find_element(By.ID, \"login-btn\")"
   ]
  },
  {
   "cell_type": "markdown",
   "id": "67d53c1c",
   "metadata": {},
   "source": [
    "elem_login_btn.click()"
   ]
  },
  {
   "cell_type": "code",
   "execution_count": 93,
   "id": "d2fd4fd2",
   "metadata": {},
   "outputs": [],
   "source": [
    "elem_login_btn.click()"
   ]
  },
  {
   "cell_type": "code",
   "execution_count": 39,
   "id": "6ba8f249",
   "metadata": {},
   "outputs": [],
   "source": [
    "elem  = browser.find_element(By.ID, \"name\")"
   ]
  },
  {
   "cell_type": "code",
   "execution_count": 40,
   "id": "a683ec92",
   "metadata": {},
   "outputs": [
    {
     "data": {
      "text/plain": [
       "<selenium.webdriver.remote.webelement.WebElement (session=\"121f1fca476a0e13b8eeb88548d73f7e\", element=\"80ee26ea-88c3-4d30-94f0-c7405987faba\")>"
      ]
     },
     "execution_count": 40,
     "metadata": {},
     "output_type": "execute_result"
    }
   ],
   "source": [
    "elem"
   ]
  },
  {
   "cell_type": "code",
   "execution_count": 41,
   "id": "3ddbb344",
   "metadata": {},
   "outputs": [
    {
     "data": {
      "text/plain": [
       "'今西 航平'"
      ]
     },
     "execution_count": 41,
     "metadata": {},
     "output_type": "execute_result"
    }
   ],
   "source": [
    "elem.text"
   ]
  },
  {
   "cell_type": "code",
   "execution_count": 42,
   "id": "0976e73b",
   "metadata": {},
   "outputs": [
    {
     "data": {
      "text/plain": [
       "'バスケットボール\\n読書\\nガジェット集め'"
      ]
     },
     "execution_count": 42,
     "metadata": {},
     "output_type": "execute_result"
    }
   ],
   "source": [
    "elem  = browser.find_element(By.ID, \"company\")\n",
    "elem.text\n",
    "elem  = browser.find_element(By.ID, \"come_from\")\n",
    "elem.text\n",
    "elem  = browser.find_element(By.ID, \"birthday\")\n",
    "elem.text\n",
    "elem  = browser.find_element(By.ID, \"hobby\")\n",
    "elem.text"
   ]
  },
  {
   "cell_type": "code",
   "execution_count": 45,
   "id": "fd48de48",
   "metadata": {},
   "outputs": [
    {
     "data": {
      "text/plain": [
       "str"
      ]
     },
     "execution_count": 45,
     "metadata": {},
     "output_type": "execute_result"
    }
   ],
   "source": [
    "hobby = elem.text\n",
    "type(hobby)"
   ]
  },
  {
   "cell_type": "code",
   "execution_count": 46,
   "id": "c71cdf7a",
   "metadata": {},
   "outputs": [
    {
     "data": {
      "text/plain": [
       "'バスケットボール,読書,ガジェット集め'"
      ]
     },
     "execution_count": 46,
     "metadata": {},
     "output_type": "execute_result"
    }
   ],
   "source": [
    "hobby.replace(\"\\n\", \",\")"
   ]
  },
  {
   "cell_type": "code",
   "execution_count": 47,
   "id": "97822ffc",
   "metadata": {},
   "outputs": [
    {
     "data": {
      "text/plain": [
       "'バスケットボール読書ガジェット集め'"
      ]
     },
     "execution_count": 47,
     "metadata": {},
     "output_type": "execute_result"
    }
   ],
   "source": [
    "hobby.replace(\"\\n\", \"\")"
   ]
  },
  {
   "cell_type": "code",
   "execution_count": 50,
   "id": "2d8f619d",
   "metadata": {},
   "outputs": [],
   "source": [
    "# 一括で取得"
   ]
  },
  {
   "cell_type": "code",
   "execution_count": 86,
   "id": "85eb76bc",
   "metadata": {},
   "outputs": [],
   "source": [
    "from selenium import webdriver\n",
    "browser = webdriver.Chrome()\n",
    "browser.get(\"https://scraping-for-beginner.herokuapp.com/login_page\")"
   ]
  },
  {
   "cell_type": "code",
   "execution_count": 94,
   "id": "0f5cdb77",
   "metadata": {},
   "outputs": [
    {
     "data": {
      "text/plain": [
       "<selenium.webdriver.remote.webelement.WebElement (session=\"c994dd61abaffb55423dd37eebd83c51\", element=\"56072807-b195-4ace-bed8-0a9c6ca15662\")>"
      ]
     },
     "execution_count": 94,
     "metadata": {},
     "output_type": "execute_result"
    }
   ],
   "source": [
    "elem_th = browser.find_element(By.TAG_NAME, \"th\")\n",
    "elem_th"
   ]
  },
  {
   "cell_type": "code",
   "execution_count": 95,
   "id": "de2e8571",
   "metadata": {},
   "outputs": [
    {
     "data": {
      "text/plain": [
       "'講師名'"
      ]
     },
     "execution_count": 95,
     "metadata": {},
     "output_type": "execute_result"
    }
   ],
   "source": [
    "elem_th.text"
   ]
  },
  {
   "cell_type": "code",
   "execution_count": 96,
   "id": "a924e0f7",
   "metadata": {},
   "outputs": [
    {
     "data": {
      "text/plain": [
       "list"
      ]
     },
     "execution_count": 96,
     "metadata": {},
     "output_type": "execute_result"
    }
   ],
   "source": [
    "elems_th = browser.find_elements(By.TAG_NAME, \"th\")\n",
    "type(elems_th)"
   ]
  },
  {
   "cell_type": "code",
   "execution_count": 97,
   "id": "fdbb8a00",
   "metadata": {},
   "outputs": [
    {
     "data": {
      "text/plain": [
       "'講師名'"
      ]
     },
     "execution_count": 97,
     "metadata": {},
     "output_type": "execute_result"
    }
   ],
   "source": [
    "elems_th[0].text"
   ]
  },
  {
   "cell_type": "code",
   "execution_count": 99,
   "id": "748ec496",
   "metadata": {},
   "outputs": [
    {
     "data": {
      "text/plain": [
       "'所属企業'"
      ]
     },
     "execution_count": 99,
     "metadata": {},
     "output_type": "execute_result"
    }
   ],
   "source": [
    "elems_th[1].text"
   ]
  },
  {
   "cell_type": "code",
   "execution_count": 100,
   "id": "9749ddb9",
   "metadata": {},
   "outputs": [
    {
     "data": {
      "text/plain": [
       "'出身'"
      ]
     },
     "execution_count": 100,
     "metadata": {},
     "output_type": "execute_result"
    }
   ],
   "source": [
    "elems_th  = browser.find_elements(By.TAG_NAME, \"th\")\n",
    "elem_th  = elems_th[3]\n",
    "key = elem_th.text\n",
    "key"
   ]
  },
  {
   "cell_type": "code",
   "execution_count": 102,
   "id": "74e75473",
   "metadata": {},
   "outputs": [],
   "source": [
    "keys = []\n",
    "\n",
    "elems_th = browser.find_elements(By.TAG_NAME, \"th\")\n",
    "\n",
    "for elem_th in elems_th:\n",
    "    key = elem_th.text\n",
    "    keys.append(key)"
   ]
  },
  {
   "cell_type": "code",
   "execution_count": 103,
   "id": "5b962967",
   "metadata": {},
   "outputs": [
    {
     "data": {
      "text/plain": [
       "'趣味'"
      ]
     },
     "execution_count": 103,
     "metadata": {},
     "output_type": "execute_result"
    }
   ],
   "source": [
    "key"
   ]
  },
  {
   "cell_type": "code",
   "execution_count": 106,
   "id": "8fbcd258",
   "metadata": {},
   "outputs": [
    {
     "data": {
      "text/plain": [
       "['講師名', '所属企業', '生年月日', '出身', '趣味']"
      ]
     },
     "execution_count": 106,
     "metadata": {},
     "output_type": "execute_result"
    }
   ],
   "source": [
    "keys"
   ]
  },
  {
   "cell_type": "code",
   "execution_count": 107,
   "id": "eed1d5f5",
   "metadata": {},
   "outputs": [],
   "source": [
    "# 各値を取得し、valuesに格納せよ"
   ]
  },
  {
   "cell_type": "code",
   "execution_count": 110,
   "id": "10c89b48",
   "metadata": {},
   "outputs": [],
   "source": [
    "elems_td = browser.find_elements(By.TAG_NAME, \"td\")\n",
    "\n",
    "values = []\n",
    "\n",
    "for elem_th in elems_td:\n",
    "    value = elem_th.text\n",
    "    values.append(value)\n"
   ]
  },
  {
   "cell_type": "code",
   "execution_count": 111,
   "id": "203e6722",
   "metadata": {},
   "outputs": [
    {
     "data": {
      "text/plain": [
       "['今西 航平', '株式会社キカガク', '1994年7月15日', '千葉県', 'バスケットボール\\n読書\\nガジェット集め']"
      ]
     },
     "execution_count": 111,
     "metadata": {},
     "output_type": "execute_result"
    }
   ],
   "source": [
    "values"
   ]
  },
  {
   "cell_type": "code",
   "execution_count": 112,
   "id": "6bbde14b",
   "metadata": {},
   "outputs": [],
   "source": [
    "# CSVファイルを取得"
   ]
  },
  {
   "cell_type": "code",
   "execution_count": 118,
   "id": "025be1a0",
   "metadata": {},
   "outputs": [],
   "source": [
    "import pandas as pd"
   ]
  },
  {
   "cell_type": "code",
   "execution_count": 119,
   "id": "7e4b01c7",
   "metadata": {},
   "outputs": [],
   "source": [
    "# 空のDataFrameを定義\n",
    "df = pd.DataFrame()"
   ]
  },
  {
   "cell_type": "code",
   "execution_count": 120,
   "id": "d6d9432e",
   "metadata": {},
   "outputs": [],
   "source": [
    "df[\"項目\"] = keys\n",
    "df[\"値\"] = values"
   ]
  },
  {
   "cell_type": "code",
   "execution_count": 121,
   "id": "97cfedeb",
   "metadata": {
    "scrolled": true
   },
   "outputs": [
    {
     "data": {
      "text/html": [
       "<div>\n",
       "<style scoped>\n",
       "    .dataframe tbody tr th:only-of-type {\n",
       "        vertical-align: middle;\n",
       "    }\n",
       "\n",
       "    .dataframe tbody tr th {\n",
       "        vertical-align: top;\n",
       "    }\n",
       "\n",
       "    .dataframe thead th {\n",
       "        text-align: right;\n",
       "    }\n",
       "</style>\n",
       "<table border=\"1\" class=\"dataframe\">\n",
       "  <thead>\n",
       "    <tr style=\"text-align: right;\">\n",
       "      <th></th>\n",
       "      <th>項目</th>\n",
       "      <th>値</th>\n",
       "    </tr>\n",
       "  </thead>\n",
       "  <tbody>\n",
       "    <tr>\n",
       "      <th>0</th>\n",
       "      <td>講師名</td>\n",
       "      <td>今西 航平</td>\n",
       "    </tr>\n",
       "    <tr>\n",
       "      <th>1</th>\n",
       "      <td>所属企業</td>\n",
       "      <td>株式会社キカガク</td>\n",
       "    </tr>\n",
       "    <tr>\n",
       "      <th>2</th>\n",
       "      <td>生年月日</td>\n",
       "      <td>1994年7月15日</td>\n",
       "    </tr>\n",
       "    <tr>\n",
       "      <th>3</th>\n",
       "      <td>出身</td>\n",
       "      <td>千葉県</td>\n",
       "    </tr>\n",
       "    <tr>\n",
       "      <th>4</th>\n",
       "      <td>趣味</td>\n",
       "      <td>バスケットボール\\n読書\\nガジェット集め</td>\n",
       "    </tr>\n",
       "  </tbody>\n",
       "</table>\n",
       "</div>"
      ],
      "text/plain": [
       "     項目                      値\n",
       "0   講師名                  今西 航平\n",
       "1  所属企業               株式会社キカガク\n",
       "2  生年月日             1994年7月15日\n",
       "3    出身                    千葉県\n",
       "4    趣味  バスケットボール\\n読書\\nガジェット集め"
      ]
     },
     "execution_count": 121,
     "metadata": {},
     "output_type": "execute_result"
    }
   ],
   "source": [
    "df"
   ]
  },
  {
   "cell_type": "code",
   "execution_count": 122,
   "id": "0af28cb1",
   "metadata": {},
   "outputs": [],
   "source": [
    "df.to_csv(\"講師情報.csv\", index=False)"
   ]
  },
  {
   "cell_type": "code",
   "execution_count": null,
   "id": "3e83c073",
   "metadata": {},
   "outputs": [],
   "source": []
  },
  {
   "cell_type": "code",
   "execution_count": null,
   "id": "71b35bbf",
   "metadata": {},
   "outputs": [],
   "source": []
  },
  {
   "cell_type": "code",
   "execution_count": null,
   "id": "56b5dbe7",
   "metadata": {},
   "outputs": [],
   "source": []
  },
  {
   "cell_type": "code",
   "execution_count": null,
   "id": "49ab2a31",
   "metadata": {},
   "outputs": [],
   "source": []
  },
  {
   "cell_type": "code",
   "execution_count": null,
   "id": "f63b7bca",
   "metadata": {},
   "outputs": [],
   "source": []
  },
  {
   "cell_type": "code",
   "execution_count": null,
   "id": "0344151c",
   "metadata": {},
   "outputs": [],
   "source": []
  }
 ],
 "metadata": {
  "kernelspec": {
   "display_name": "Python 3 (ipykernel)",
   "language": "python",
   "name": "python3"
  },
  "language_info": {
   "codemirror_mode": {
    "name": "ipython",
    "version": 3
   },
   "file_extension": ".py",
   "mimetype": "text/x-python",
   "name": "python",
   "nbconvert_exporter": "python",
   "pygments_lexer": "ipython3",
   "version": "3.9.13"
  }
 },
 "nbformat": 4,
 "nbformat_minor": 5
}
