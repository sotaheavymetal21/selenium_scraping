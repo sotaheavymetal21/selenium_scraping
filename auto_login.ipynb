{
 "cells": [
  {
   "cell_type": "code",
   "execution_count": null,
   "id": "c451d9b1",
   "metadata": {},
   "outputs": [],
   "source": [
    "from selenium import webdriver\n",
    "browser = webdriver.Chrome()\n",
    "browser.get(\"https://scraping-for-beginner.herokuapp.com/login_page\")"
   ]
  },
  {
   "cell_type": "code",
   "execution_count": 19,
   "id": "8dda3917",
   "metadata": {},
   "outputs": [],
   "source": [
    "browser = webdriver.Chrome()"
   ]
  },
  {
   "cell_type": "code",
   "execution_count": 20,
   "id": "43c0ddb2",
   "metadata": {},
   "outputs": [],
   "source": [
    "browser.get(\"https://scraping-for-beginner.herokuapp.com/login_page\")"
   ]
  },
  {
   "cell_type": "code",
   "execution_count": 21,
   "id": "5604b901",
   "metadata": {},
   "outputs": [],
   "source": [
    "browser.quit()"
   ]
  },
  {
   "cell_type": "code",
   "execution_count": 22,
   "id": "cff90898",
   "metadata": {},
   "outputs": [],
   "source": [
    "browser = webdriver.Chrome()\n",
    "browser.get(\"https://scraping-for-beginner.herokuapp.com/login_page\")"
   ]
  },
  {
   "cell_type": "code",
   "execution_count": 28,
   "id": "8d9f1978",
   "metadata": {},
   "outputs": [],
   "source": [
    "from selenium.webdriver.common.by import By"
   ]
  },
  {
   "cell_type": "code",
   "execution_count": 87,
   "id": "00681fa8",
   "metadata": {},
   "outputs": [],
   "source": [
    "elem_username = browser.find_element(By.ID, \"username\")"
   ]
  },
  {
   "cell_type": "code",
   "execution_count": 88,
   "id": "43b8138c",
   "metadata": {},
   "outputs": [
    {
     "data": {
      "text/plain": [
       "<selenium.webdriver.remote.webelement.WebElement (session=\"c994dd61abaffb55423dd37eebd83c51\", element=\"61aa564c-923a-4c5d-b5a5-73555126c15f\")>"
      ]
     },
     "execution_count": 88,
     "metadata": {},
     "output_type": "execute_result"
    }
   ],
   "source": [
    "elem_username"
   ]
  },
  {
   "cell_type": "markdown",
   "id": "9a2add37",
   "metadata": {},
   "source": [
    "elem_username.send_keys(\"imanishi\")"
   ]
  },
  {
   "cell_type": "code",
   "execution_count": 89,
   "id": "ad0b4198",
   "metadata": {},
   "outputs": [],
   "source": [
    "elem_username.send_keys(\"imanishi\")"
   ]
  },
  {
   "cell_type": "code",
   "execution_count": 90,
   "id": "6a2224d5",
   "metadata": {},
   "outputs": [],
   "source": [
    "elem_password  = browser.find_element(By.ID, \"password\")"
   ]
  },
  {
   "cell_type": "code",
   "execution_count": 91,
   "id": "d9b32d9b",
   "metadata": {},
   "outputs": [],
   "source": [
    "elem_password.send_keys(\"kohei\")"
   ]
  },
  {
   "cell_type": "code",
   "execution_count": 92,
   "id": "b006d4ce",
   "metadata": {},
   "outputs": [],
   "source": [
    "elem_login_btn  =browser.find_element(By.ID, \"login-btn\")"
   ]
  },
  {
   "cell_type": "markdown",
   "id": "67d53c1c",
   "metadata": {},
   "source": [
    "elem_login_btn.click()"
   ]
  },
  {
   "cell_type": "code",
   "execution_count": 93,
   "id": "d2fd4fd2",
   "metadata": {},
   "outputs": [],
   "source": [
    "elem_login_btn.click()"
   ]
  },
  {
   "cell_type": "code",
   "execution_count": 39,
   "id": "6ba8f249",
   "metadata": {},
   "outputs": [],
   "source": [
    "elem  = browser.find_element(By.ID, \"name\")"
   ]
  },
  {
   "cell_type": "code",
   "execution_count": 40,
   "id": "a683ec92",
   "metadata": {},
   "outputs": [
    {
     "data": {
      "text/plain": [
       "<selenium.webdriver.remote.webelement.WebElement (session=\"121f1fca476a0e13b8eeb88548d73f7e\", element=\"80ee26ea-88c3-4d30-94f0-c7405987faba\")>"
      ]
     },
     "execution_count": 40,
     "metadata": {},
     "output_type": "execute_result"
    }
   ],
   "source": [
    "elem"
   ]
  },
  {
   "cell_type": "code",
   "execution_count": 41,
   "id": "3ddbb344",
   "metadata": {},
   "outputs": [
    {
     "data": {
      "text/plain": [
       "'今西 航平'"
      ]
     },
     "execution_count": 41,
     "metadata": {},
     "output_type": "execute_result"
    }
   ],
   "source": [
    "elem.text"
   ]
  },
  {
   "cell_type": "code",
   "execution_count": 42,
   "id": "0976e73b",
   "metadata": {},
   "outputs": [
    {
     "data": {
      "text/plain": [
       "'バスケットボール\\n読書\\nガジェット集め'"
      ]
     },
     "execution_count": 42,
     "metadata": {},
     "output_type": "execute_result"
    }
   ],
   "source": [
    "elem  = browser.find_element(By.ID, \"company\")\n",
    "elem.text\n",
    "elem  = browser.find_element(By.ID, \"come_from\")\n",
    "elem.text\n",
    "elem  = browser.find_element(By.ID, \"birthday\")\n",
    "elem.text\n",
    "elem  = browser.find_element(By.ID, \"hobby\")\n",
    "elem.text"
   ]
  },
  {
   "cell_type": "code",
   "execution_count": 45,
   "id": "fd48de48",
   "metadata": {},
   "outputs": [
    {
     "data": {
      "text/plain": [
       "str"
      ]
     },
     "execution_count": 45,
     "metadata": {},
     "output_type": "execute_result"
    }
   ],
   "source": [
    "hobby = elem.text\n",
    "type(hobby)"
   ]
  },
  {
   "cell_type": "code",
   "execution_count": 46,
   "id": "c71cdf7a",
   "metadata": {},
   "outputs": [
    {
     "data": {
      "text/plain": [
       "'バスケットボール,読書,ガジェット集め'"
      ]
     },
     "execution_count": 46,
     "metadata": {},
     "output_type": "execute_result"
    }
   ],
   "source": [
    "hobby.replace(\"\\n\", \",\")"
   ]
  },
  {
   "cell_type": "code",
   "execution_count": 47,
   "id": "97822ffc",
   "metadata": {},
   "outputs": [
    {
     "data": {
      "text/plain": [
       "'バスケットボール読書ガジェット集め'"
      ]
     },
     "execution_count": 47,
     "metadata": {},
     "output_type": "execute_result"
    }
   ],
   "source": [
    "hobby.replace(\"\\n\", \"\")"
   ]
  },
  {
   "cell_type": "code",
   "execution_count": 50,
   "id": "2d8f619d",
   "metadata": {},
   "outputs": [],
   "source": [
    "# 一括で取得"
   ]
  },
  {
   "cell_type": "code",
   "execution_count": 86,
   "id": "85eb76bc",
   "metadata": {},
   "outputs": [],
   "source": [
    "from selenium import webdriver\n",
    "browser = webdriver.Chrome()\n",
    "browser.get(\"https://scraping-for-beginner.herokuapp.com/login_page\")"
   ]
  },
  {
   "cell_type": "code",
   "execution_count": 94,
   "id": "3985049b",
   "metadata": {},
   "outputs": [
    {
     "data": {
      "text/plain": [
       "<selenium.webdriver.remote.webelement.WebElement (session=\"c994dd61abaffb55423dd37eebd83c51\", element=\"56072807-b195-4ace-bed8-0a9c6ca15662\")>"
      ]
     },
     "execution_count": 94,
     "metadata": {},
     "output_type": "execute_result"
    }
   ],
   "source": [
    "elem_th = browser.find_element(By.TAG_NAME, \"th\")\n",
    "elem_th"
   ]
  },
  {
   "cell_type": "code",
   "execution_count": 95,
   "id": "377615b1",
   "metadata": {},
   "outputs": [
    {
     "data": {
      "text/plain": [
       "'講師名'"
      ]
     },
     "execution_count": 95,
     "metadata": {},
     "output_type": "execute_result"
    }
   ],
   "source": [
    "elem_th.text"
   ]
  },
  {
   "cell_type": "code",
   "execution_count": 96,
   "id": "48b6f4b2",
   "metadata": {},
   "outputs": [
    {
     "data": {
      "text/plain": [
       "list"
      ]
     },
     "execution_count": 96,
     "metadata": {},
     "output_type": "execute_result"
    }
   ],
   "source": [
    "elems_th = browser.find_elements(By.TAG_NAME, \"th\")\n",
    "type(elems_th)"
   ]
  },
  {
   "cell_type": "code",
   "execution_count": 97,
   "id": "3d16de06",
   "metadata": {},
   "outputs": [
    {
     "data": {
      "text/plain": [
       "'講師名'"
      ]
     },
     "execution_count": 97,
     "metadata": {},
     "output_type": "execute_result"
    }
   ],
   "source": [
    "elems_th[0].text"
   ]
  },
  {
   "cell_type": "code",
   "execution_count": 99,
   "id": "afa8afb4",
   "metadata": {},
   "outputs": [
    {
     "data": {
      "text/plain": [
       "'所属企業'"
      ]
     },
     "execution_count": 99,
     "metadata": {},
     "output_type": "execute_result"
    }
   ],
   "source": [
    "elems_th[1].text"
   ]
  },
  {
   "cell_type": "code",
   "execution_count": 100,
   "id": "179e59da",
   "metadata": {},
   "outputs": [
    {
     "data": {
      "text/plain": [
       "'出身'"
      ]
     },
     "execution_count": 100,
     "metadata": {},
     "output_type": "execute_result"
    }
   ],
   "source": [
    "elems_th  = browser.find_elements(By.TAG_NAME, \"th\")\n",
    "elem_th  = elems_th[3]\n",
    "key = elem_th.text\n",
    "key"
   ]
  },
  {
   "cell_type": "code",
   "execution_count": 102,
   "id": "be7c338a",
   "metadata": {},
   "outputs": [],
   "source": [
    "keys = []\n",
    "\n",
    "elems_th = browser.find_elements(By.TAG_NAME, \"th\")\n",
    "\n",
    "for elem_th in elems_th:\n",
    "    key = elem_th.text\n",
    "    keys.append(key)"
   ]
  },
  {
   "cell_type": "code",
   "execution_count": 103,
   "id": "cf14ade3",
   "metadata": {},
   "outputs": [
    {
     "data": {
      "text/plain": [
       "'趣味'"
      ]
     },
     "execution_count": 103,
     "metadata": {},
     "output_type": "execute_result"
    }
   ],
   "source": [
    "key"
   ]
  },
  {
   "cell_type": "code",
   "execution_count": 104,
   "id": "f09f535a",
   "metadata": {},
   "outputs": [
    {
     "data": {
      "text/plain": [
       "['講師名', '所属企業', '生年月日', '出身', '趣味']"
      ]
     },
     "execution_count": 104,
     "metadata": {},
     "output_type": "execute_result"
    }
   ],
   "source": [
    "keys"
   ]
  },
  {
   "cell_type": "code",
   "execution_count": null,
   "id": "eec508fa",
   "metadata": {},
   "outputs": [],
   "source": []
  }
 ],
 "metadata": {
  "kernelspec": {
   "display_name": "Python 3 (ipykernel)",
   "language": "python",
   "name": "python3"
  },
  "language_info": {
   "codemirror_mode": {
    "name": "ipython",
    "version": 3
   },
   "file_extension": ".py",
   "mimetype": "text/x-python",
   "name": "python",
   "nbconvert_exporter": "python",
   "pygments_lexer": "ipython3",
   "version": "3.9.13"
  }
 },
 "nbformat": 4,
 "nbformat_minor": 5
}
