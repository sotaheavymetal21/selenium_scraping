{
 "cells": [
  {
   "cell_type": "code",
   "execution_count": null,
   "id": "09c77179",
   "metadata": {},
   "outputs": [],
   "source": [
    "from selenium import webdriver"
   ]
  },
  {
   "cell_type": "code",
   "execution_count": 19,
   "id": "dc01186f",
   "metadata": {},
   "outputs": [],
   "source": [
    "browser = webdriver.Chrome()"
   ]
  },
  {
   "cell_type": "code",
   "execution_count": 20,
   "id": "85a8bb7f",
   "metadata": {},
   "outputs": [],
   "source": [
    "browser.get(\"https://scraping-for-beginner.herokuapp.com/login_page\")"
   ]
  },
  {
   "cell_type": "code",
   "execution_count": 21,
   "id": "4dd7d653",
   "metadata": {},
   "outputs": [],
   "source": [
    "browser.quit()"
   ]
  },
  {
   "cell_type": "code",
   "execution_count": 22,
   "id": "af911e02",
   "metadata": {},
   "outputs": [],
   "source": [
    "browser = webdriver.Chrome()\n",
    "browser.get(\"https://scraping-for-beginner.herokuapp.com/login_page\")"
   ]
  },
  {
   "cell_type": "code",
   "execution_count": 28,
   "id": "1e79a777",
   "metadata": {},
   "outputs": [],
   "source": [
    "from selenium.webdriver.common.by import By"
   ]
  },
  {
   "cell_type": "code",
   "execution_count": 31,
   "id": "ae85ef10",
   "metadata": {},
   "outputs": [],
   "source": [
    "elem_username = browser.find_element(By.ID, \"username\")"
   ]
  },
  {
   "cell_type": "code",
   "execution_count": 32,
   "id": "eb016e25",
   "metadata": {},
   "outputs": [
    {
     "data": {
      "text/plain": [
       "<selenium.webdriver.remote.webelement.WebElement (session=\"121f1fca476a0e13b8eeb88548d73f7e\", element=\"94035bc3-5963-4a69-8aed-4fec5b450eae\")>"
      ]
     },
     "execution_count": 32,
     "metadata": {},
     "output_type": "execute_result"
    }
   ],
   "source": [
    "elem_username"
   ]
  },
  {
   "cell_type": "markdown",
   "id": "8fd7dd11",
   "metadata": {},
   "source": [
    "elem_username.send_keys(\"imanishi\")"
   ]
  },
  {
   "cell_type": "code",
   "execution_count": 33,
   "id": "d12bfcb2",
   "metadata": {},
   "outputs": [],
   "source": [
    "elem_username.send_keys(\"imanishi\")"
   ]
  },
  {
   "cell_type": "code",
   "execution_count": 34,
   "id": "3d82d876",
   "metadata": {},
   "outputs": [],
   "source": [
    "elem_password  = browser.find_element(By.ID, \"password\")"
   ]
  },
  {
   "cell_type": "code",
   "execution_count": 35,
   "id": "15adc944",
   "metadata": {},
   "outputs": [],
   "source": [
    "elem_password.send_keys(\"kohei\")"
   ]
  },
  {
   "cell_type": "code",
   "execution_count": 36,
   "id": "918b9a9a",
   "metadata": {},
   "outputs": [],
   "source": [
    "elem_login_btn  =browser.find_element(By.ID, \"login-btn\")"
   ]
  },
  {
   "cell_type": "markdown",
   "id": "9bd0ace0",
   "metadata": {},
   "source": [
    "elem_login_btn.click()"
   ]
  },
  {
   "cell_type": "code",
   "execution_count": 37,
   "id": "dfac2d19",
   "metadata": {},
   "outputs": [],
   "source": [
    "elem_login_btn.click()"
   ]
  },
  {
   "cell_type": "code",
   "execution_count": null,
   "id": "ef23bd79",
   "metadata": {},
   "outputs": [],
   "source": []
  },
  {
   "cell_type": "code",
   "execution_count": null,
   "id": "98de5f3a",
   "metadata": {},
   "outputs": [],
   "source": [
    " "
   ]
  }
 ],
 "metadata": {
  "kernelspec": {
   "display_name": "Python 3 (ipykernel)",
   "language": "python",
   "name": "python3"
  },
  "language_info": {
   "codemirror_mode": {
    "name": "ipython",
    "version": 3
   },
   "file_extension": ".py",
   "mimetype": "text/x-python",
   "name": "python",
   "nbconvert_exporter": "python",
   "pygments_lexer": "ipython3",
   "version": "3.9.13"
  }
 },
 "nbformat": 4,
 "nbformat_minor": 5
}
